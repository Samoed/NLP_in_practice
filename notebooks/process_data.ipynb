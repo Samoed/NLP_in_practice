{
 "cells": [
  {
   "cell_type": "code",
   "execution_count": 37,
   "metadata": {},
   "outputs": [],
   "source": [
    "import re\n",
    "import os\n",
    "import pandas as pd\n",
    "\n",
    "from pdfminer.high_level import extract_text"
   ]
  },
  {
   "cell_type": "code",
   "execution_count": 38,
   "metadata": {},
   "outputs": [],
   "source": [
    "file_paths = os.listdir(\"data\")"
   ]
  },
  {
   "cell_type": "code",
   "execution_count": 62,
   "metadata": {},
   "outputs": [],
   "source": [
    "extracted_texts = [extract_text(\"./data/\" + file_path) for file_path in file_paths]"
   ]
  },
  {
   "cell_type": "code",
   "execution_count": 94,
   "metadata": {},
   "outputs": [
    {
     "data": {
      "text/plain": [
       "'JACOB SMITH\\n\\nF R E S H E R\\n\\nPERSONAL PROFILE\\n\\nWORK BACKGROUND\\n\\nI am actively seeking opportunity as Data\\nAnalyst or Machine Learning Engineer.\\n\\nMy goal is to discover new business\\nstrategies and create an impact through\\ndata driven analytical decisions and\\nleading the business to success.\\n\\nExperts Hub\\nIntern, May 2019\\n\\nI was part of a team that designed and developed a smart parking system\\nbased on Object Recognition. \\n\\nSKILLS\\n\\nEDUCATION\\n\\nPython, SQL, MySQL, Tableau, Power\\nBi, Pandas , Numpy, Matplotlib, Excel ,\\nMachine Learning, AWS(EMR,EC2,S3),\\nCloud, Hive(HQL), and Excel\\n\\nB. Tech, ECE VIT-AP University 2020\\n\\nPROJECTS\\n\\nMusic Genre Classification \\nFace, eye, smile recognition\\n\\nOTHER ACTIVITIES\\n\\nDeep Learning Masters\\nMachine Learning\\n\\n\\x0c'"
      ]
     },
     "execution_count": 94,
     "metadata": {},
     "output_type": "execute_result"
    }
   ],
   "source": [
    "extracted_texts[0]"
   ]
  },
  {
   "cell_type": "code",
   "execution_count": 95,
   "metadata": {},
   "outputs": [
    {
     "data": {
      "text/plain": [
       "\"Machine Learning Engineering\\n\\n13585ABC\\n\\nKnowledge and Innovation\\n\\nWhat you’ll do\\n\\nYou will focus on researching, building, and designing self-running artificial intelligence (AI)\\n\\nsystems to automate predictive models. You are responsible to design and create the AI\\n\\nalgorithms capable of learning and making predictions that define machine learning (ML).\\n\\nExperience and qualifications\\n\\n● Bachelor's or Master's degree (mention the course as per requirement)\\n\\n● 0-2 years of work experience providing analytics solutions in a commercial setting\\n\\nTechnical expertise\\n\\nMust have\\n\\n● Machine Learning, Clustering, Logistic Regression, Classification\\n\\n● Different libraries such as SciKit Learn, NumPy, Pandas, Matplotlib, Seaborn\\n\\n● Deep learning frameworks such as Tensorflow, Keras, PyTorch and application of Neural\\n\\nNetworks and models. CNN, RNN, GANs\\n\\n● Familiar with Natural Language Processing and associated libraries like NLTK, SpaCy,\\n\\nBeautiful Soup\\n\\n● PySpark, Hadoop, and Big Data Pipelines\\n\\n● Data science methodology from exploratory data analysis, feature engineering, model\\n\\nselection, deployment of the model at scale, and model evaluation\\n\\n● Deploying NLP architectures and Computer Vision Models in production\\n\\nConsidered as a plus\\n\\n● Transformers and other advance techniques in NLP\\n\\n● Familiar with Computer Vision models and object detection, OCR, OpenCV\\n\\n● Analytical Tools as it will reduce any medium for data transfers\\n\\n\\x0c● Web frameworks like Django and databases like MongoDB, NoSQL, GraphQL\\n\\n● SQL, Firebase, AWS, Azure, Google Cloud Platform\\n\\nYour job type\\n\\nFull time\\n\\n\\x0c\""
      ]
     },
     "execution_count": 95,
     "metadata": {},
     "output_type": "execute_result"
    }
   ],
   "source": [
    "extract_text(\"target_resume.pdf\")"
   ]
  },
  {
   "cell_type": "code",
   "execution_count": 97,
   "metadata": {},
   "outputs": [],
   "source": [
    "df_texts = pd.DataFrame(\n",
    "    {\n",
    "        \"CandidateID\": [file.strip(\".pdf\") for file in file_paths],\n",
    "        \"resume_text\": extracted_texts,\n",
    "        \"target_resume\": [extract_text(\"target_resume.pdf\") for _ in file_paths],\n",
    "    }\n",
    ")"
   ]
  },
  {
   "cell_type": "code",
   "execution_count": 98,
   "metadata": {},
   "outputs": [
    {
     "data": {
      "text/html": [
       "<div>\n",
       "<style scoped>\n",
       "    .dataframe tbody tr th:only-of-type {\n",
       "        vertical-align: middle;\n",
       "    }\n",
       "\n",
       "    .dataframe tbody tr th {\n",
       "        vertical-align: top;\n",
       "    }\n",
       "\n",
       "    .dataframe thead th {\n",
       "        text-align: right;\n",
       "    }\n",
       "</style>\n",
       "<table border=\"1\" class=\"dataframe\">\n",
       "  <thead>\n",
       "    <tr style=\"text-align: right;\">\n",
       "      <th></th>\n",
       "      <th>CandidateID</th>\n",
       "      <th>resume_text</th>\n",
       "      <th>target_resume</th>\n",
       "    </tr>\n",
       "  </thead>\n",
       "  <tbody>\n",
       "    <tr>\n",
       "      <th>0</th>\n",
       "      <td>candidate_000</td>\n",
       "      <td>JACOB SMITH\\n\\nF R E S H E R\\n\\nPERSONAL PROFI...</td>\n",
       "      <td>Machine Learning Engineering\\n\\n13585ABC\\n\\nKn...</td>\n",
       "    </tr>\n",
       "    <tr>\n",
       "      <th>1</th>\n",
       "      <td>candidate_001</td>\n",
       "      <td>Brianna Williams\\n\\nJ U N I O R   D E V E L O ...</td>\n",
       "      <td>Machine Learning Engineering\\n\\n13585ABC\\n\\nKn...</td>\n",
       "    </tr>\n",
       "    <tr>\n",
       "      <th>2</th>\n",
       "      <td>candidate_002</td>\n",
       "      <td>M A S O N   Q U A D R A D O\\nASSOCIATE ANALYST...</td>\n",
       "      <td>Machine Learning Engineering\\n\\n13585ABC\\n\\nKn...</td>\n",
       "    </tr>\n",
       "    <tr>\n",
       "      <th>3</th>\n",
       "      <td>candidate_003</td>\n",
       "      <td>R O D N E Y   M I C H A E L S\\n\\nA S S O C I A...</td>\n",
       "      <td>Machine Learning Engineering\\n\\n13585ABC\\n\\nKn...</td>\n",
       "    </tr>\n",
       "    <tr>\n",
       "      <th>4</th>\n",
       "      <td>candidate_006</td>\n",
       "      <td>JENNIFER ARMSTRONG\\n\\nC O M P U T E R   V I S ...</td>\n",
       "      <td>Machine Learning Engineering\\n\\n13585ABC\\n\\nKn...</td>\n",
       "    </tr>\n",
       "  </tbody>\n",
       "</table>\n",
       "</div>"
      ],
      "text/plain": [
       "     CandidateID                                        resume_text  \\\n",
       "0  candidate_000  JACOB SMITH\\n\\nF R E S H E R\\n\\nPERSONAL PROFI...   \n",
       "1  candidate_001  Brianna Williams\\n\\nJ U N I O R   D E V E L O ...   \n",
       "2  candidate_002  M A S O N   Q U A D R A D O\\nASSOCIATE ANALYST...   \n",
       "3  candidate_003  R O D N E Y   M I C H A E L S\\n\\nA S S O C I A...   \n",
       "4  candidate_006  JENNIFER ARMSTRONG\\n\\nC O M P U T E R   V I S ...   \n",
       "\n",
       "                                       target_resume  \n",
       "0  Machine Learning Engineering\\n\\n13585ABC\\n\\nKn...  \n",
       "1  Machine Learning Engineering\\n\\n13585ABC\\n\\nKn...  \n",
       "2  Machine Learning Engineering\\n\\n13585ABC\\n\\nKn...  \n",
       "3  Machine Learning Engineering\\n\\n13585ABC\\n\\nKn...  \n",
       "4  Machine Learning Engineering\\n\\n13585ABC\\n\\nKn...  "
      ]
     },
     "execution_count": 98,
     "metadata": {},
     "output_type": "execute_result"
    }
   ],
   "source": [
    "df_texts.head()"
   ]
  },
  {
   "cell_type": "code",
   "execution_count": 99,
   "metadata": {},
   "outputs": [],
   "source": [
    "df_scored = pd.read_csv(\"train.csv\")"
   ]
  },
  {
   "cell_type": "code",
   "execution_count": 100,
   "metadata": {},
   "outputs": [
    {
     "data": {
      "text/html": [
       "<div>\n",
       "<style scoped>\n",
       "    .dataframe tbody tr th:only-of-type {\n",
       "        vertical-align: middle;\n",
       "    }\n",
       "\n",
       "    .dataframe tbody tr th {\n",
       "        vertical-align: top;\n",
       "    }\n",
       "\n",
       "    .dataframe thead th {\n",
       "        text-align: right;\n",
       "    }\n",
       "</style>\n",
       "<table border=\"1\" class=\"dataframe\">\n",
       "  <thead>\n",
       "    <tr style=\"text-align: right;\">\n",
       "      <th></th>\n",
       "      <th>CandidateID</th>\n",
       "      <th>Match Percentage</th>\n",
       "    </tr>\n",
       "  </thead>\n",
       "  <tbody>\n",
       "    <tr>\n",
       "      <th>0</th>\n",
       "      <td>candidate_011</td>\n",
       "      <td>13.60</td>\n",
       "    </tr>\n",
       "    <tr>\n",
       "      <th>1</th>\n",
       "      <td>candidate_113</td>\n",
       "      <td>36.63</td>\n",
       "    </tr>\n",
       "    <tr>\n",
       "      <th>2</th>\n",
       "      <td>candidate_123</td>\n",
       "      <td>54.93</td>\n",
       "    </tr>\n",
       "    <tr>\n",
       "      <th>3</th>\n",
       "      <td>candidate_012</td>\n",
       "      <td>41.46</td>\n",
       "    </tr>\n",
       "    <tr>\n",
       "      <th>4</th>\n",
       "      <td>candidate_002</td>\n",
       "      <td>48.91</td>\n",
       "    </tr>\n",
       "  </tbody>\n",
       "</table>\n",
       "</div>"
      ],
      "text/plain": [
       "     CandidateID  Match Percentage\n",
       "0  candidate_011             13.60\n",
       "1  candidate_113             36.63\n",
       "2  candidate_123             54.93\n",
       "3  candidate_012             41.46\n",
       "4  candidate_002             48.91"
      ]
     },
     "execution_count": 100,
     "metadata": {},
     "output_type": "execute_result"
    }
   ],
   "source": [
    "df_scored.head()"
   ]
  },
  {
   "cell_type": "code",
   "execution_count": 101,
   "metadata": {},
   "outputs": [],
   "source": [
    "merged_df = df_texts.merge(df_scored, on=\"CandidateID\")"
   ]
  },
  {
   "cell_type": "code",
   "execution_count": 102,
   "metadata": {},
   "outputs": [
    {
     "data": {
      "text/html": [
       "<div>\n",
       "<style scoped>\n",
       "    .dataframe tbody tr th:only-of-type {\n",
       "        vertical-align: middle;\n",
       "    }\n",
       "\n",
       "    .dataframe tbody tr th {\n",
       "        vertical-align: top;\n",
       "    }\n",
       "\n",
       "    .dataframe thead th {\n",
       "        text-align: right;\n",
       "    }\n",
       "</style>\n",
       "<table border=\"1\" class=\"dataframe\">\n",
       "  <thead>\n",
       "    <tr style=\"text-align: right;\">\n",
       "      <th></th>\n",
       "      <th>CandidateID</th>\n",
       "      <th>resume_text</th>\n",
       "      <th>target_resume</th>\n",
       "      <th>Match Percentage</th>\n",
       "    </tr>\n",
       "  </thead>\n",
       "  <tbody>\n",
       "    <tr>\n",
       "      <th>0</th>\n",
       "      <td>candidate_000</td>\n",
       "      <td>JACOB SMITH\\n\\nF R E S H E R\\n\\nPERSONAL PROFI...</td>\n",
       "      <td>Machine Learning Engineering\\n\\n13585ABC\\n\\nKn...</td>\n",
       "      <td>13.70</td>\n",
       "    </tr>\n",
       "    <tr>\n",
       "      <th>1</th>\n",
       "      <td>candidate_001</td>\n",
       "      <td>Brianna Williams\\n\\nJ U N I O R   D E V E L O ...</td>\n",
       "      <td>Machine Learning Engineering\\n\\n13585ABC\\n\\nKn...</td>\n",
       "      <td>40.09</td>\n",
       "    </tr>\n",
       "    <tr>\n",
       "      <th>2</th>\n",
       "      <td>candidate_002</td>\n",
       "      <td>M A S O N   Q U A D R A D O\\nASSOCIATE ANALYST...</td>\n",
       "      <td>Machine Learning Engineering\\n\\n13585ABC\\n\\nKn...</td>\n",
       "      <td>48.91</td>\n",
       "    </tr>\n",
       "    <tr>\n",
       "      <th>3</th>\n",
       "      <td>candidate_003</td>\n",
       "      <td>R O D N E Y   M I C H A E L S\\n\\nA S S O C I A...</td>\n",
       "      <td>Machine Learning Engineering\\n\\n13585ABC\\n\\nKn...</td>\n",
       "      <td>36.89</td>\n",
       "    </tr>\n",
       "    <tr>\n",
       "      <th>4</th>\n",
       "      <td>candidate_006</td>\n",
       "      <td>JENNIFER ARMSTRONG\\n\\nC O M P U T E R   V I S ...</td>\n",
       "      <td>Machine Learning Engineering\\n\\n13585ABC\\n\\nKn...</td>\n",
       "      <td>44.96</td>\n",
       "    </tr>\n",
       "  </tbody>\n",
       "</table>\n",
       "</div>"
      ],
      "text/plain": [
       "     CandidateID                                        resume_text  \\\n",
       "0  candidate_000  JACOB SMITH\\n\\nF R E S H E R\\n\\nPERSONAL PROFI...   \n",
       "1  candidate_001  Brianna Williams\\n\\nJ U N I O R   D E V E L O ...   \n",
       "2  candidate_002  M A S O N   Q U A D R A D O\\nASSOCIATE ANALYST...   \n",
       "3  candidate_003  R O D N E Y   M I C H A E L S\\n\\nA S S O C I A...   \n",
       "4  candidate_006  JENNIFER ARMSTRONG\\n\\nC O M P U T E R   V I S ...   \n",
       "\n",
       "                                       target_resume  Match Percentage  \n",
       "0  Machine Learning Engineering\\n\\n13585ABC\\n\\nKn...             13.70  \n",
       "1  Machine Learning Engineering\\n\\n13585ABC\\n\\nKn...             40.09  \n",
       "2  Machine Learning Engineering\\n\\n13585ABC\\n\\nKn...             48.91  \n",
       "3  Machine Learning Engineering\\n\\n13585ABC\\n\\nKn...             36.89  \n",
       "4  Machine Learning Engineering\\n\\n13585ABC\\n\\nKn...             44.96  "
      ]
     },
     "execution_count": 102,
     "metadata": {},
     "output_type": "execute_result"
    }
   ],
   "source": [
    "merged_df.head()"
   ]
  },
  {
   "cell_type": "code",
   "execution_count": 92,
   "metadata": {},
   "outputs": [],
   "source": [
    "merged_df.to_csv(\"train_merged.csv\")"
   ]
  },
  {
   "cell_type": "code",
   "execution_count": null,
   "metadata": {},
   "outputs": [],
   "source": []
  }
 ],
 "metadata": {
  "kernelspec": {
   "display_name": "Python 3",
   "language": "python",
   "name": "python3"
  },
  "language_info": {
   "codemirror_mode": {
    "name": "ipython",
    "version": 3
   },
   "file_extension": ".py",
   "mimetype": "text/x-python",
   "name": "python",
   "nbconvert_exporter": "python",
   "pygments_lexer": "ipython3",
   "version": "3.10.11"
  }
 },
 "nbformat": 4,
 "nbformat_minor": 2
}
